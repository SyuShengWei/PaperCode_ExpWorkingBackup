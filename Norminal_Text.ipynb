{
 "cells": [
  {
   "cell_type": "code",
   "execution_count": 1,
   "metadata": {},
   "outputs": [],
   "source": [
    "##read Data Base\n",
    "from pymongo import MongoClient\n",
    "from bson.objectid import ObjectId\n",
    "uri = \"mongodb://localhost:27017/database\" #mongodb://<user_name>:<user_password>@ds<xxxxxx>.mlab.com:<xxxxx>/<database_name>\n",
    "conn = MongoClient(uri)\n",
    "db = conn.PaperData\n",
    "#Spectrogram_Collection  =  db.get_collection('AudioSpectrogram_100thTag')\n",
    "LineCNN_Collection  =  db.get_collection('LineCNNMatrix_100thTag')"
   ]
  },
  {
   "cell_type": "code",
   "execution_count": 2,
   "metadata": {},
   "outputs": [],
   "source": [
    "import json \n",
    "import codecs\n",
    "import numpy as np\n",
    "def read_json(filename):\n",
    "    with codecs.open(filename,'r',encoding = 'utf8') as infile:\n",
    "        return np.array(json.load(infile))\n",
    "\n",
    "_num_Tags =50   \n",
    "x_train = read_json('x_train_'+str(_num_Tags)+'d.json').tolist()\n",
    "x_test = read_json('x_test_'+str(_num_Tags)+'d.json').tolist()\n"
   ]
  },
  {
   "cell_type": "code",
   "execution_count": 10,
   "metadata": {},
   "outputs": [],
   "source": [
    "x_List = x_test + x_train"
   ]
  },
  {
   "cell_type": "code",
   "execution_count": 11,
   "metadata": {},
   "outputs": [],
   "source": [
    "Text_x = np.array(LineCNN_Collection.find_one({\"Filename\":x_List[0]})['LineMatrix'])"
   ]
  },
  {
   "cell_type": "code",
   "execution_count": 12,
   "metadata": {},
   "outputs": [
    {
     "data": {
      "text/plain": [
       "1.2679469585418701"
      ]
     },
     "execution_count": 12,
     "metadata": {},
     "output_type": "execute_result"
    }
   ],
   "source": [
    "Text_x.max()"
   ]
  },
  {
   "cell_type": "code",
   "execution_count": 13,
   "metadata": {},
   "outputs": [
    {
     "data": {
      "text/plain": [
       "-1.4294503927230835"
      ]
     },
     "execution_count": 13,
     "metadata": {},
     "output_type": "execute_result"
    }
   ],
   "source": [
    "Text_x.min()"
   ]
  },
  {
   "cell_type": "code",
   "execution_count": 14,
   "metadata": {},
   "outputs": [],
   "source": [
    "WV_max = 7.682228\n",
    "WV_min = -9.127636\n",
    "WV_len = WV_max - WV_min"
   ]
  },
  {
   "cell_type": "code",
   "execution_count": 15,
   "metadata": {},
   "outputs": [
    {
     "data": {
      "text/plain": [
       "42838"
      ]
     },
     "execution_count": 15,
     "metadata": {},
     "output_type": "execute_result"
    }
   ],
   "source": [
    "len(x_List)"
   ]
  },
  {
   "cell_type": "code",
   "execution_count": 20,
   "metadata": {},
   "outputs": [
    {
     "name": "stdout",
     "output_type": "stream",
     "text": [
      ">>>>>>>>>>>>>>>>>>>>>>>>>>>>>>>>>>>>>>>>>>>>>>>>>[100%]42839/42839"
     ]
    }
   ],
   "source": [
    "for filename in x_List:\n",
    "    try:\n",
    "        Text_x = np.array(LineCNN_Collection.find_one({\"Filename\":filename})['LineMatrix'])\n",
    "\n",
    "    #print(np_max,np_min)\n",
    "        Text_x = (Text_x - WV_min)/WV_len\n",
    "        LineCNN_Collection.update_one({\"Filename\":filename},{\"$set\":{'LineMatrix':Text_x.tolist()},\"$currentDate\":{\"lastModified\":True} })\n",
    "    except:\n",
    "        print(filename)\n",
    "    progressBar(x_List.index(filename),1,len(x_List)+1)"
   ]
  },
  {
   "cell_type": "code",
   "execution_count": 21,
   "metadata": {},
   "outputs": [],
   "source": [
    "Text_x = np.array(LineCNN_Collection.find_one({\"Filename\":\"Jesse Sykes & the Sweet Hereafter_The Air Is Thin\"})['LineMatrix'])\n"
   ]
  },
  {
   "cell_type": "code",
   "execution_count": 22,
   "metadata": {},
   "outputs": [
    {
     "data": {
      "text/plain": [
       "(33, 25, 100)"
      ]
     },
     "execution_count": 22,
     "metadata": {},
     "output_type": "execute_result"
    }
   ],
   "source": [
    "Text_x.shape"
   ]
  },
  {
   "cell_type": "code",
   "execution_count": 24,
   "metadata": {},
   "outputs": [
    {
     "data": {
      "text/plain": [
       "0.6258050174302724"
      ]
     },
     "execution_count": 24,
     "metadata": {},
     "output_type": "execute_result"
    }
   ],
   "source": [
    "Text_x.max()"
   ]
  },
  {
   "cell_type": "code",
   "execution_count": 25,
   "metadata": {},
   "outputs": [
    {
     "data": {
      "text/plain": [
       "0.466438424135411"
      ]
     },
     "execution_count": 25,
     "metadata": {},
     "output_type": "execute_result"
    }
   ],
   "source": [
    "Text_x.min()"
   ]
  },
  {
   "cell_type": "code",
   "execution_count": 23,
   "metadata": {},
   "outputs": [],
   "source": [
    "import sys"
   ]
  },
  {
   "cell_type": "code",
   "execution_count": 17,
   "metadata": {},
   "outputs": [],
   "source": [
    "def progressBar(index_progress, start, end):\n",
    "    i = int((index_progress)/(end-start)*100)\n",
    "    k = i + 1\n",
    "    the_str = '>'*(i//2)+' '*((100-k)//2)\n",
    "    sys.stdout.write('\\r'+the_str+'[%s%%]'%(i+1)+ str(index_progress+1+start) + '/' + str(end))\n",
    "    sys.stdout.flush()"
   ]
  },
  {
   "cell_type": "code",
   "execution_count": 49,
   "metadata": {},
   "outputs": [
    {
     "data": {
      "text/plain": [
       "1"
      ]
     },
     "execution_count": 49,
     "metadata": {},
     "output_type": "execute_result"
    }
   ],
   "source": [
    "len(the_list)"
   ]
  },
  {
   "cell_type": "code",
   "execution_count": 27,
   "metadata": {},
   "outputs": [
    {
     "data": {
      "text/plain": [
       "21.666666666666668"
      ]
     },
     "execution_count": 27,
     "metadata": {},
     "output_type": "execute_result"
    }
   ],
   "source": [
    "1300/60"
   ]
  },
  {
   "cell_type": "code",
   "execution_count": 6,
   "metadata": {},
   "outputs": [],
   "source": [
    "import sys\n",
    "def progressBar(index_progress, start, end):\n",
    "    i = int((index_progress)/(end-start)*100)\n",
    "    k = i + 1\n",
    "    the_str = '>'*(i//2)+' '*((100-k)//2)\n",
    "    sys.stdout.write('\\r'+the_str+'[%s%%]'%(i+1)+ str(index_progress+1+start) + '/' + str(end))\n",
    "    sys.stdout.flush()"
   ]
  },
  {
   "cell_type": "code",
   "execution_count": 11,
   "metadata": {},
   "outputs": [
    {
     "data": {
      "text/plain": [
       "'        \\n        else:\\n            while len(Text) < Max_len:\\n                Text.append(np.zeros(shape = (25,100)).tolist())\\n            P_LineCNN_Collection = db.get_collection(\\'LineCNNMatrix_100thTag_80p\\')\\n            P_LineCNN_Collection.insert_one({\"Filename\":filename,\\'LineMatrix\\':Text})\\n'"
      ]
     },
     "execution_count": 11,
     "metadata": {},
     "output_type": "execute_result"
    }
   ],
   "source": [
    "## Padding for batch\n",
    "\n",
    "import codecs\n",
    "import numpy as np\n",
    "import json \n",
    "def read_json(filename):\n",
    "    with codecs.open(filename,'r',encoding = 'utf8') as infile:\n",
    "        return np.array(json.load(infile))\n",
    "_num_Tags = 50\n",
    "x_train = read_json('x_train_'+str(_num_Tags)+'d_sub.json')\n",
    "x_test = read_json('x_test_'+str(_num_Tags)+'d_sub.json')\n",
    "X_List = x_train.tolist()+x_test.tolist()\n",
    "\n",
    "from pymongo import MongoClient\n",
    "from bson.objectid import ObjectId\n",
    "from multiprocessing import Process\n",
    "from multiprocessing import Pool, TimeoutError\n",
    "uri = \"mongodb://localhost:27017/database\" #mongodb://<user_name>:<user_password>@ds<xxxxxx>.mlab.com:<xxxxx>/<database_name>\n",
    "client = MongoClient(uri)\n",
    "\n",
    "\n",
    "Max_len = 80\n",
    "\n",
    "Too_Long_Song = []\n",
    "# Each child process attempts to copy a global MongoClient\n",
    "# created in the parent process. Never do this.\n",
    "def func(File_List,max_len,start,end):\n",
    "    db = client.PaperData\n",
    "    \n",
    "    for filename in File_List:\n",
    "        progressBar(File_List.index(filename),start,end)\n",
    "        LineCNN_Collection  =  db.get_collection('LineCNNMatrix_100thTag')\n",
    "        Text = LineCNN_Collection.find_one({\"Filename\":filename})['LineMatrix']\n",
    "        \n",
    "        if len(Text) > Max_len:\n",
    "            Too_Long_Song.append(filename)\n",
    "            continue\n",
    "        else:\n",
    "            while len(Text) < Max_len:\n",
    "                Text.append(np.zeros(shape = (25,100)).tolist())\n",
    "            P_LineCNN_Collection = db.get_collection('LineCNNMatrix_100thTag_80p')\n",
    "            P_LineCNN_Collection.insert_one({\"Filename\":filename,'LineMatrix':Text})"
   ]
  },
  {
   "cell_type": "code",
   "execution_count": 26,
   "metadata": {},
   "outputs": [
    {
     "name": "stdout",
     "output_type": "stream",
     "text": [
      ">>>>>>>>>>>>>>>>>>>>>>>>>>>>>>>>>>>>>>>>>>>>>>>>>[100%]26129/26129"
     ]
    }
   ],
   "source": [
    "Too_Long_Song = []\n",
    "\n",
    "db = client.PaperData\n",
    "    \n",
    "for filename in X_List:\n",
    "    progressBar(X_List.index(filename),0,len(X_List))\n",
    "    LineCNN_Collection  =  db.get_collection('LineCNNMatrix_100thTag')\n",
    "    Text = LineCNN_Collection.find_one({\"Filename\":filename})['LineMatrix']\n",
    "        \n",
    "    if len(Text) > Max_len:\n",
    "        Too_Long_Song.append(filename)"
   ]
  },
  {
   "cell_type": "code",
   "execution_count": null,
   "metadata": {},
   "outputs": [],
   "source": []
  },
  {
   "cell_type": "code",
   "execution_count": null,
   "metadata": {},
   "outputs": [],
   "source": []
  },
  {
   "cell_type": "code",
   "execution_count": 13,
   "metadata": {},
   "outputs": [
    {
     "name": "stdout",
     "output_type": "stream",
     "text": [
      "\r",
      "                                                 [1%]1/1"
     ]
    }
   ],
   "source": [
    "func(X_List[0:1],Max_len,0,1,Too_Long_Song)"
   ]
  },
  {
   "cell_type": "code",
   "execution_count": 14,
   "metadata": {},
   "outputs": [],
   "source": [
    "Process_List = []\n",
    "Process_List.append(Process(target=func, args=(X_List[0:2000],Max_len,0,2000,Too_Long_Song)))\n",
    "Process_List.append(Process(target=func, args=(X_List[2000:4000],Max_len,2000,4000,Too_Long_Song)))\n",
    "Process_List.append(Process(target=func, args=(X_List[4000:6000],Max_len,4000,6000,Too_Long_Song)))\n",
    "Process_List.append(Process(target=func, args=(X_List[6000:8000],Max_len,6000,8000,Too_Long_Song)))\n",
    "Process_List.append(Process(target=func, args=(X_List[8000:10000],Max_len,8000,10000,Too_Long_Song)))\n",
    "Process_List.append(Process(target=func, args=(X_List[10000:12000],Max_len,10000,12000,Too_Long_Song)))\n",
    "Process_List.append(Process(target=func, args=(X_List[12000:14000],Max_len,12000,14000,Too_Long_Song)))\n",
    "Process_List.append(Process(target=func, args=(X_List[14000:16000],Max_len,14000,16000,Too_Long_Song)))\n",
    "Process_List.append(Process(target=func, args=(X_List[16000:18000],Max_len,16000,18000,Too_Long_Song)))\n",
    "Process_List.append(Process(target=func, args=(X_List[18000:20000],Max_len,18000,20000,Too_Long_Song)))\n",
    "Process_List.append(Process(target=func, args=(X_List[20000:22000],Max_len,20000,22000,Too_Long_Song)))\n",
    "Process_List.append(Process(target=func, args=(X_List[22000:len(X_List)],Max_len,22000,len(X_List),Too_Long_Song)))"
   ]
  },
  {
   "cell_type": "code",
   "execution_count": 15,
   "metadata": {
    "scrolled": false
   },
   "outputs": [
    {
     "name": "stdout",
     "output_type": "stream",
     "text": [
      "\r",
      "                                                 [1%]1/2000"
     ]
    },
    {
     "name": "stderr",
     "output_type": "stream",
     "text": [
      "/usr/local/lib/python3.6/dist-packages/pymongo/topology.py:149: UserWarning: MongoClient opened before fork. Create MongoClient only after forking. See PyMongo's documentation for details: http://api.mongodb.org/python/current/faq.html#is-pymongo-fork-safe\n",
      "  \"MongoClient opened before fork. Create MongoClient only \"\n"
     ]
    },
    {
     "name": "stdout",
     "output_type": "stream",
     "text": [
      "                                                 [1%]4001/6000"
     ]
    },
    {
     "name": "stderr",
     "output_type": "stream",
     "text": [
      "/usr/local/lib/python3.6/dist-packages/pymongo/topology.py:149: UserWarning: MongoClient opened before fork. Create MongoClient only after forking. See PyMongo's documentation for details: http://api.mongodb.org/python/current/faq.html#is-pymongo-fork-safe\n",
      "  \"MongoClient opened before fork. Create MongoClient only \"\n",
      "/usr/local/lib/python3.6/dist-packages/pymongo/topology.py:149: UserWarning: MongoClient opened before fork. Create MongoClient only after forking. See PyMongo's documentation for details: http://api.mongodb.org/python/current/faq.html#is-pymongo-fork-safe\n",
      "  \"MongoClient opened before fork. Create MongoClient only \"\n"
     ]
    },
    {
     "name": "stdout",
     "output_type": "stream",
     "text": [
      "\r",
      "                                                 [1%]6001/8000"
     ]
    },
    {
     "name": "stderr",
     "output_type": "stream",
     "text": [
      "/usr/local/lib/python3.6/dist-packages/pymongo/topology.py:149: UserWarning: MongoClient opened before fork. Create MongoClient only after forking. See PyMongo's documentation for details: http://api.mongodb.org/python/current/faq.html#is-pymongo-fork-safe\n",
      "  \"MongoClient opened before fork. Create MongoClient only \"\n"
     ]
    },
    {
     "name": "stdout",
     "output_type": "stream",
     "text": [
      "\r",
      "                                                 [1%]8001/10000"
     ]
    },
    {
     "name": "stderr",
     "output_type": "stream",
     "text": [
      "/usr/local/lib/python3.6/dist-packages/pymongo/topology.py:149: UserWarning: MongoClient opened before fork. Create MongoClient only after forking. See PyMongo's documentation for details: http://api.mongodb.org/python/current/faq.html#is-pymongo-fork-safe\n",
      "  \"MongoClient opened before fork. Create MongoClient only \"\n"
     ]
    },
    {
     "name": "stdout",
     "output_type": "stream",
     "text": [
      "                                                 [1%]12001/14000"
     ]
    },
    {
     "name": "stderr",
     "output_type": "stream",
     "text": [
      "/usr/local/lib/python3.6/dist-packages/pymongo/topology.py:149: UserWarning: MongoClient opened before fork. Create MongoClient only after forking. See PyMongo's documentation for details: http://api.mongodb.org/python/current/faq.html#is-pymongo-fork-safe\n",
      "  \"MongoClient opened before fork. Create MongoClient only \"\n",
      "/usr/local/lib/python3.6/dist-packages/pymongo/topology.py:149: UserWarning: MongoClient opened before fork. Create MongoClient only after forking. See PyMongo's documentation for details: http://api.mongodb.org/python/current/faq.html#is-pymongo-fork-safe\n",
      "  \"MongoClient opened before fork. Create MongoClient only \"\n"
     ]
    },
    {
     "name": "stdout",
     "output_type": "stream",
     "text": [
      "                                                 [1%]16001/18000"
     ]
    },
    {
     "name": "stderr",
     "output_type": "stream",
     "text": [
      "/usr/local/lib/python3.6/dist-packages/pymongo/topology.py:149: UserWarning: MongoClient opened before fork. Create MongoClient only after forking. See PyMongo's documentation for details: http://api.mongodb.org/python/current/faq.html#is-pymongo-fork-safe\n",
      "  \"MongoClient opened before fork. Create MongoClient only \"\n",
      "/usr/local/lib/python3.6/dist-packages/pymongo/topology.py:149: UserWarning: MongoClient opened before fork. Create MongoClient only after forking. See PyMongo's documentation for details: http://api.mongodb.org/python/current/faq.html#is-pymongo-fork-safe\n",
      "  \"MongoClient opened before fork. Create MongoClient only \"\n"
     ]
    },
    {
     "name": "stdout",
     "output_type": "stream",
     "text": [
      "                                                 [1%]8002/100000"
     ]
    },
    {
     "name": "stderr",
     "output_type": "stream",
     "text": [
      "/usr/local/lib/python3.6/dist-packages/pymongo/topology.py:149: UserWarning: MongoClient opened before fork. Create MongoClient only after forking. See PyMongo's documentation for details: http://api.mongodb.org/python/current/faq.html#is-pymongo-fork-safe\n",
      "  \"MongoClient opened before fork. Create MongoClient only \"\n",
      "/usr/local/lib/python3.6/dist-packages/pymongo/topology.py:149: UserWarning: MongoClient opened before fork. Create MongoClient only after forking. See PyMongo's documentation for details: http://api.mongodb.org/python/current/faq.html#is-pymongo-fork-safe\n",
      "  \"MongoClient opened before fork. Create MongoClient only \"\n"
     ]
    },
    {
     "name": "stdout",
     "output_type": "stream",
     "text": [
      "                                                 [1%]8003/100000"
     ]
    },
    {
     "name": "stderr",
     "output_type": "stream",
     "text": [
      "/usr/local/lib/python3.6/dist-packages/pymongo/topology.py:149: UserWarning: MongoClient opened before fork. Create MongoClient only after forking. See PyMongo's documentation for details: http://api.mongodb.org/python/current/faq.html#is-pymongo-fork-safe\n",
      "  \"MongoClient opened before fork. Create MongoClient only \"\n"
     ]
    },
    {
     "name": "stdout",
     "output_type": "stream",
     "text": [
      ">>>>>>>>>>>>>>>>>>>>>>>>>>>>>>>>>>>>>>>>>>>>>>>>>[100%]26129/26129"
     ]
    }
   ],
   "source": [
    "for p in Process_List:\n",
    "    p.start()"
   ]
  },
  {
   "cell_type": "code",
   "execution_count": 16,
   "metadata": {},
   "outputs": [],
   "source": [
    "for p in Process_List:\n",
    "    p.join()\n",
    "#db.close()"
   ]
  },
  {
   "cell_type": "code",
   "execution_count": 6,
   "metadata": {},
   "outputs": [],
   "source": [
    "db =client.PaperData"
   ]
  },
  {
   "cell_type": "code",
   "execution_count": 19,
   "metadata": {},
   "outputs": [
    {
     "data": {
      "text/plain": [
       "(25, 100)"
      ]
     },
     "execution_count": 19,
     "metadata": {},
     "output_type": "execute_result"
    }
   ],
   "source": [
    "np.zeros(shape = (25,100)).shape"
   ]
  },
  {
   "cell_type": "code",
   "execution_count": 18,
   "metadata": {},
   "outputs": [],
   "source": [
    "db = client.PaperData\n",
    "LineCNN_Collection  =  db.get_collection('LineCNNMatrix_100thTag')\n",
    "P_LineCNN_Collection = db.get_collection('LineCNNMatrix_100thTag_80p')\n",
    "#Text = LineCNN_Collection.find_one({\"Filename\":X_List[0]})['LineMatrix']"
   ]
  },
  {
   "cell_type": "code",
   "execution_count": 12,
   "metadata": {},
   "outputs": [
    {
     "name": "stderr",
     "output_type": "stream",
     "text": [
      "/usr/local/lib/python3.6/dist-packages/ipykernel_launcher.py:1: DeprecationWarning: collection_names is deprecated. Use list_collection_names instead.\n",
      "  \"\"\"Entry point for launching an IPython kernel.\n"
     ]
    },
    {
     "data": {
      "text/plain": [
       "['AudioSpectrogram',\n",
       " 'system.indexes',\n",
       " 'AudioSpectrogram_100thTag',\n",
       " 'LineCNNMatrix_100thTag',\n",
       " 'LineCNNMatrix_100thTag_80p']"
      ]
     },
     "execution_count": 12,
     "metadata": {},
     "output_type": "execute_result"
    }
   ],
   "source": [
    "db.collection_names()"
   ]
  },
  {
   "cell_type": "code",
   "execution_count": 25,
   "metadata": {},
   "outputs": [],
   "source": [
    "while len(Text) < Max_len:\n",
    "    Text.append(np.zeros(shape = (25,100)).tolist())"
   ]
  },
  {
   "cell_type": "code",
   "execution_count": 26,
   "metadata": {},
   "outputs": [
    {
     "data": {
      "text/plain": [
       "(332, 25, 100)"
      ]
     },
     "execution_count": 26,
     "metadata": {},
     "output_type": "execute_result"
    }
   ],
   "source": [
    "np.array(Text).shape"
   ]
  },
  {
   "cell_type": "code",
   "execution_count": 23,
   "metadata": {},
   "outputs": [
    {
     "data": {
      "text/plain": [
       "<bound method Collection.count of Collection(Database(MongoClient(host=['localhost:27017'], document_class=dict, tz_aware=False, connect=True), 'PaperData'), 'LineCNNMatrix_100thTag_80p')>"
      ]
     },
     "execution_count": 23,
     "metadata": {},
     "output_type": "execute_result"
    }
   ],
   "source": []
  },
  {
   "cell_type": "code",
   "execution_count": null,
   "metadata": {},
   "outputs": [],
   "source": []
  },
  {
   "cell_type": "code",
   "execution_count": null,
   "metadata": {},
   "outputs": [],
   "source": []
  },
  {
   "cell_type": "code",
   "execution_count": null,
   "metadata": {},
   "outputs": [],
   "source": []
  },
  {
   "cell_type": "code",
   "execution_count": null,
   "metadata": {},
   "outputs": [],
   "source": []
  },
  {
   "cell_type": "code",
   "execution_count": null,
   "metadata": {},
   "outputs": [],
   "source": []
  },
  {
   "cell_type": "code",
   "execution_count": 27,
   "metadata": {},
   "outputs": [
    {
     "data": {
      "text/plain": [
       "453"
      ]
     },
     "execution_count": 27,
     "metadata": {},
     "output_type": "execute_result"
    }
   ],
   "source": [
    "len(Too_Long_Song)"
   ]
  },
  {
   "cell_type": "code",
   "execution_count": 28,
   "metadata": {},
   "outputs": [],
   "source": [
    "x_train = read_json('x_train_'+str(_num_Tags)+'d_sub.json')\n",
    "x_test = read_json('x_test_'+str(_num_Tags)+'d_sub.json')\n",
    "y_train = read_json('y_train_'+str(_num_Tags)+'d_sub.json')\n",
    "y_test = read_json('y_test_'+str(_num_Tags)+'d_sub.json')"
   ]
  },
  {
   "cell_type": "code",
   "execution_count": 29,
   "metadata": {},
   "outputs": [],
   "source": [
    "y_List = np.array(y_train.tolist() + y_test.tolist())\n",
    "x_List = np.array(x_train.tolist() + x_test.tolist())"
   ]
  },
  {
   "cell_type": "code",
   "execution_count": 30,
   "metadata": {},
   "outputs": [],
   "source": [
    "X_subset=[]\n",
    "Y_subset=[]\n",
    "\n",
    "for i in range(len(x_List)):\n",
    "    if x_List[i] not in Too_Long_Song:\n",
    "        X_subset.append(x_List[i].tolist())\n",
    "        Y_subset.append(y_List[i].tolist())"
   ]
  },
  {
   "cell_type": "code",
   "execution_count": 31,
   "metadata": {},
   "outputs": [],
   "source": [
    "from sklearn.model_selection import train_test_split\n",
    "x_sub_train, x_sub_test , y_sub_train, y_sub_test = train_test_split(X_subset,Y_subset,test_size=0.2, random_state=100)"
   ]
  },
  {
   "cell_type": "code",
   "execution_count": 32,
   "metadata": {},
   "outputs": [
    {
     "data": {
      "text/plain": [
       "5136"
      ]
     },
     "execution_count": 32,
     "metadata": {},
     "output_type": "execute_result"
    }
   ],
   "source": [
    "len(x_sub_test)"
   ]
  },
  {
   "cell_type": "code",
   "execution_count": 33,
   "metadata": {},
   "outputs": [
    {
     "data": {
      "text/plain": [
       "20540"
      ]
     },
     "execution_count": 33,
     "metadata": {},
     "output_type": "execute_result"
    }
   ],
   "source": [
    "len(x_sub_train)"
   ]
  },
  {
   "cell_type": "code",
   "execution_count": 34,
   "metadata": {},
   "outputs": [
    {
     "data": {
      "text/plain": [
       "5136"
      ]
     },
     "execution_count": 34,
     "metadata": {},
     "output_type": "execute_result"
    }
   ],
   "source": [
    "len(y_sub_test)"
   ]
  },
  {
   "cell_type": "code",
   "execution_count": 35,
   "metadata": {},
   "outputs": [
    {
     "data": {
      "text/plain": [
       "20540"
      ]
     },
     "execution_count": 35,
     "metadata": {},
     "output_type": "execute_result"
    }
   ],
   "source": [
    "len(y_sub_train)"
   ]
  },
  {
   "cell_type": "code",
   "execution_count": 36,
   "metadata": {},
   "outputs": [
    {
     "data": {
      "text/plain": [
       "list"
      ]
     },
     "execution_count": 36,
     "metadata": {},
     "output_type": "execute_result"
    }
   ],
   "source": [
    "type(y_sub_train[0])"
   ]
  },
  {
   "cell_type": "code",
   "execution_count": 37,
   "metadata": {},
   "outputs": [],
   "source": [
    "def write_json(filename,data):\n",
    "    with codecs.open(filename,'w',encoding = 'utf8') as infile:\n",
    "        json.dump(data,infile)\n",
    "    return len(data)"
   ]
  },
  {
   "cell_type": "code",
   "execution_count": 38,
   "metadata": {},
   "outputs": [
    {
     "data": {
      "text/plain": [
       "20540"
      ]
     },
     "execution_count": 38,
     "metadata": {},
     "output_type": "execute_result"
    }
   ],
   "source": [
    "write_json('x_train_'+str(_num_Tags)+'d_80p_sub.json',x_sub_train)"
   ]
  },
  {
   "cell_type": "code",
   "execution_count": 39,
   "metadata": {},
   "outputs": [
    {
     "data": {
      "text/plain": [
       "20540"
      ]
     },
     "execution_count": 39,
     "metadata": {},
     "output_type": "execute_result"
    }
   ],
   "source": [
    "write_json('y_train_'+str(_num_Tags)+'d_80p_sub.json',y_sub_train)"
   ]
  },
  {
   "cell_type": "code",
   "execution_count": 40,
   "metadata": {},
   "outputs": [
    {
     "data": {
      "text/plain": [
       "5136"
      ]
     },
     "execution_count": 40,
     "metadata": {},
     "output_type": "execute_result"
    }
   ],
   "source": [
    "write_json('x_test_'+str(_num_Tags)+'d_80p_sub.json',x_sub_test)"
   ]
  },
  {
   "cell_type": "code",
   "execution_count": 41,
   "metadata": {},
   "outputs": [
    {
     "data": {
      "text/plain": [
       "5136"
      ]
     },
     "execution_count": 41,
     "metadata": {},
     "output_type": "execute_result"
    }
   ],
   "source": [
    "write_json('y_test_'+str(_num_Tags)+'d_80p_sub.json',y_sub_test)"
   ]
  },
  {
   "cell_type": "code",
   "execution_count": null,
   "metadata": {},
   "outputs": [],
   "source": []
  }
 ],
 "metadata": {
  "kernelspec": {
   "display_name": "Python 3",
   "language": "python",
   "name": "python3"
  },
  "language_info": {
   "codemirror_mode": {
    "name": "ipython",
    "version": 3
   },
   "file_extension": ".py",
   "mimetype": "text/x-python",
   "name": "python",
   "nbconvert_exporter": "python",
   "pygments_lexer": "ipython3",
   "version": "3.6.8"
  }
 },
 "nbformat": 4,
 "nbformat_minor": 2
}
